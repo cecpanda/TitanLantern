{
 "cells": [
  {
   "cell_type": "code",
   "execution_count": 5,
   "metadata": {},
   "outputs": [
    {
     "name": "stdout",
     "output_type": "stream",
     "text": [
      "{'id': 'TEA-000-4005'}\n"
     ]
    }
   ],
   "source": [
    "import json\n",
    "import requests\n",
    "\n",
    "auth_url = \"http://127.0.0.1:8000/jwt/auth/\"\n",
    "create_url = \"http://127.0.0.1:8000/tft/order/start/\"\n",
    "\n",
    "user_data = {\n",
    "    \"username\": \"03152\",\n",
    "    \"password\": \"admin123\"\n",
    "}\n",
    "\n",
    "res = requests.post(auth_url, data=user_data)\n",
    "token = res.json().get('token')\n",
    "\n",
    "headers = {\n",
    "    'Authorization': f\"JWT {token}\"\n",
    "}\n",
    "\n",
    "data = {   \n",
    "    'found_time': '2018-07-12T14:21:27.347759+08:00',\n",
    "    'found_step': '12300',\n",
    "    'charge_group': 1,\n",
    "    'eq': 'cak-01k',\n",
    "    'kind': '185',\n",
    "    'step': '03100,18700',\n",
    "    'reason': '漏油了',\n",
    "    'users': '张三',\n",
    "    'charge_users': '里斯',\n",
    "    'desc': '漏油了',\n",
    "    'condition': \"请我吃饭\",\n",
    "    # 上面是必填字段\n",
    "    'zzz': \"多加的\",\n",
    "    'lot_num': '20',\n",
    "    'lots': 'PAD1K123456',\n",
    "    'remark': 'wolegeca',\n",
    "}\n",
    "\n",
    "files = (\n",
    "    ('reports', open('panda.jpg', 'rb')),\n",
    "    # ('reports', open('panda.jpg', 'rb')),\n",
    ")\n",
    "\n",
    "res = requests.post(create_url, data=data, files=files, headers=headers)\n",
    "print(res.json())"
   ]
  },
  {
   "cell_type": "code",
   "execution_count": 3,
   "metadata": {},
   "outputs": [
    {
     "name": "stdout",
     "output_type": "stream",
     "text": [
      "{'detail': '未找到。'}\n"
     ]
    }
   ],
   "source": [
    "put_url = \"http://127.0.0.1:8000/tft/order/start/TEA-000-4003/\"\n",
    "\n",
    "data = {   \n",
    "    'found_time': '2018-07-13T14:21:27.347759+08:00',\n",
    "    'found_step': '12300',\n",
    "    'charge_group': 1,\n",
    "    'eq': 'cak-01k',\n",
    "    'kind': '185',\n",
    "    'step': '03100,18700',\n",
    "    'reason': '漏油了',\n",
    "    'users': '张三',\n",
    "    'charge_users': '里斯',\n",
    "    'desc': '漏油了',\n",
    "    'condition': \"请我吃饭\",\n",
    "    # 上面是必填字段\n",
    "    'zzz': \"多加的\",\n",
    "    'lot_num': '20',\n",
    "    'lots': 'PAD1K123456',\n",
    "    'remark': 'wolegeca',\n",
    "}\n",
    "\n",
    "res = requests.put(put_url, data=data, headers=headers)\n",
    "print(res.json())"
   ]
  },
  {
   "cell_type": "code",
   "execution_count": 21,
   "metadata": {},
   "outputs": [
    {
     "name": "stdout",
     "output_type": "stream",
     "text": [
      "{'id': 'TEA-000-4003', 'status': '待审核', 'created': '2018-07-24T10:08:33.700756+08:00', 'mod_user': {'username': '03152', 'realname': None, 'email': '', 'mobile': None, 'phone': None, 'avatar': 'http://127.0.0.1:8000/media/avatars/default.png', 'gender': 'M'}, 'modified': '2018-07-24T10:14:11.972653+08:00', 'found_step': '12300', 'found_time': '2018-07-13T14:21:27.347759+08:00', 'eq': 'cak-01k', 'kind': '185', 'step': '03100,18700', 'reason': '漏油了', 'users': '张三', 'charge_users': '里斯', 'desc': '漏油了', 'start_time': None, 'end_time': None, 'lot_num': '20', 'lots': 'PAD1K123456', 'condition': '请我吃饭', 'defect_type': None, 'reports': [{'file': 'http://127.0.0.1:8000/media/reports/TEA-000-4003/logo.jpg'}, {'file': 'http://127.0.0.1:8000/media/reports/TEA-000-4003/panda.jpeg'}], 'remarks': [{'user': {'username': '03152', 'realname': None, 'email': '', 'mobile': None, 'phone': None, 'avatar': 'http://127.0.0.1:8000/media/avatars/default.png', 'gender': 'M'}, 'content': 'wolegeca', 'created': '2018-07-24T10:14:11.973980+08:00'}, {'user': {'username': '03152', 'realname': None, 'email': '', 'mobile': None, 'phone': None, 'avatar': 'http://127.0.0.1:8000/media/avatars/default.png', 'gender': 'M'}, 'content': 'wolegeca', 'created': '2018-07-24T10:13:57.623886+08:00'}, {'user': {'username': '03152', 'realname': None, 'email': '', 'mobile': None, 'phone': None, 'avatar': 'http://127.0.0.1:8000/media/avatars/default.png', 'gender': 'M'}, 'content': 'wolegeca', 'created': '2018-07-24T10:08:33.703309+08:00'}]}\n"
     ]
    }
   ],
   "source": [
    "retrieve_url = \"http://127.0.0.1:8000/tft/order/start/TEA-000-4003/\"\n",
    "\n",
    "res = requests.get(retrieve_url, headers=headers)\n",
    "print(res.json())\n"
   ]
  },
  {
   "cell_type": "code",
   "execution_count": null,
   "metadata": {},
   "outputs": [],
   "source": []
  }
 ],
 "metadata": {
  "kernelspec": {
   "display_name": "Python 3",
   "language": "python",
   "name": "python3"
  },
  "language_info": {
   "codemirror_mode": {
    "name": "ipython",
    "version": 3
   },
   "file_extension": ".py",
   "mimetype": "text/x-python",
   "name": "python",
   "nbconvert_exporter": "python",
   "pygments_lexer": "ipython3",
   "version": "3.7.0"
  },
  "toc": {
   "nav_menu": {},
   "number_sections": true,
   "sideBar": true,
   "skip_h1_title": false,
   "title_cell": "Table of Contents",
   "title_sidebar": "Contents",
   "toc_cell": false,
   "toc_position": {},
   "toc_section_display": true,
   "toc_window_display": false
  }
 },
 "nbformat": 4,
 "nbformat_minor": 2
}
