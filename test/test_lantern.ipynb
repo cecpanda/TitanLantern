{
 "cells": [
  {
   "cell_type": "code",
   "execution_count": 11,
   "metadata": {},
   "outputs": [
    {
     "name": "stdout",
     "output_type": "stream",
     "text": [
      "200\n",
      "{'id': 'TEA-000-4048', 'status': {'code': '8', 'desc': '（部分复机）完成'}, 'next': '8', 'user': {'username': '00001', 'realname': '邓肯'}, 'group': {'id': 10, 'name': 'PHO'}, 'created': '2018-08-06T13:32:27.169604+08:00', 'mod_user': 4, 'modified': '2018-08-06T13:32:27.169657+08:00', 'found_step': '111', 'found_time': '2018-08-06T13:32:00+08:00', 'charge_group': {'id': 10, 'name': 'PHO'}, 'eq': '11', 'kind': '11', 'step': '11', 'reason': '11', 'users': '1', 'charge_users': '1', 'desc': '1', 'start_time': '2018-08-06T13:32:00+08:00', 'end_time': '2018-08-06T13:32:00+08:00', 'lot_num': '1', 'lots': '1', 'condition': '1', 'defect_type': True, 'startaudit': {'p_signer': {'username': '00003', 'realname': None}, 'p_time': '2018-08-06T13:32:00+08:00', 'recipe_close': '1', 'recipe_confirm': '1', 'c_signer': {'username': '00002', 'realname': None}, 'c_time': '2018-08-06T13:32:00+08:00', 'rejected': False, 'reason': '', 'created': '2018-08-06T13:32:43.776388+08:00'}, 'recoverorders': [{'id': 10, 'user': 5, 'created': '2018-08-06T13:33:12.785637+08:00', 'mod_user': 4, 'modified': '2018-08-06T13:33:12.785687+08:00', 'solution': '11', 'explain': '1', 'partial': True, 'eq': '11', 'kind': '1', 'step': '1', 'audit': {'qc_signer': {'username': '00002', 'realname': None}, 'qc_time': '2018-08-06T13:34:00+08:00', 'p_signer': {'username': '00002', 'realname': None}, 'p_time': '2018-08-06T13:34:00+08:00', 'rejected': False, 'reason': ''}}, {'id': 11, 'user': 3, 'created': '2018-08-06T13:33:28.325671+08:00', 'mod_user': 3, 'modified': '2018-08-06T13:33:28.325734+08:00', 'solution': '1', 'explain': '1', 'partial': True, 'eq': '1', 'kind': '1', 'step': '1', 'audit': None}], 'reports': [{'file': 'http://127.0.0.1:8000/media/reports/TEA-000-4048/logo.jpg'}, {'file': 'http://127.0.0.1:8000/media/reports/TEA-000-4048/panda.jpeg'}, {'file': 'http://127.0.0.1:8000/media/reports/TEA-000-4048/%E5%81%9C%E6%9C%BA%E5%8D%95%E7%BC%96%E5%8F%B7.xlsx'}], 'remarks': [{'user': {'username': '00002', 'realname': None, 'email': '', 'mobile': None, 'phone': None, 'avatar': 'http://127.0.0.1:8000/media/avatars/default.png', 'gender': 'M'}, 'content': '222', 'created': '2018-08-06T13:35:07.848962+08:00'}, {'user': {'username': '00001', 'realname': '邓肯', 'email': '', 'mobile': None, 'phone': None, 'avatar': 'http://127.0.0.1:8000/media/avatars/default.png', 'gender': 'M'}, 'content': '111', 'created': '2018-08-06T13:34:57.032775+08:00'}]}\n"
     ]
    }
   ],
   "source": [
    "# 查看开单\n",
    "\n",
    "import json\n",
    "import requests\n",
    "\n",
    "auth_url = \"http://127.0.0.1:8000/jwt/auth/\"\n",
    "read_url = \"http://127.0.0.1:8000/tft/order/query/TEA-000-4048/\"\n",
    "\n",
    "user_data = {\n",
    "    \"username\": \"03152\",\n",
    "    \"password\": \"admin123\"\n",
    "}\n",
    "\n",
    "res = requests.post(auth_url, data=user_data)\n",
    "token = res.json().get('token')\n",
    "\n",
    "headers = {\n",
    "    'Authorization': f\"JWT {token}\"\n",
    "}\n",
    "\n",
    "res = requests.get(read_url, headers=headers)\n",
    "print(res.status_code)\n",
    "print(res.json())"
   ]
  },
  {
   "cell_type": "code",
   "execution_count": null,
   "metadata": {},
   "outputs": [],
   "source": []
  },
  {
   "cell_type": "code",
   "execution_count": 70,
   "metadata": {},
   "outputs": [
    {
     "name": "stdout",
     "output_type": "stream",
     "text": [
      "201\n",
      "{'id': 'TEA-A6I-20', 'status_code': '1', 'status': '（停机）待生产签核'}\n"
     ]
    }
   ],
   "source": [
    "# 开单\n",
    "\n",
    "import json\n",
    "import requests\n",
    "\n",
    "auth_url = \"http://127.0.0.1:8000/jwt/auth/\"\n",
    "create_url = \"http://127.0.0.1:8000/tft/order/start/\"\n",
    "\n",
    "user_data = {\n",
    "    \"username\": \"03152\",\n",
    "    \"password\": \"admin123\"\n",
    "}\n",
    "\n",
    "res = requests.post(auth_url, data=user_data)\n",
    "token = res.json().get('token')\n",
    "\n",
    "headers = {\n",
    "    'Authorization': f\"JWT {token}\"\n",
    "}\n",
    "\n",
    "data = {   \n",
    "    'found_time': '2018-07-12T14:21:27.347759+08:00',\n",
    "    'found_step': '12300',\n",
    "    'charge_group': 10,\n",
    "    'eq': 'cak-01k',\n",
    "    'kind': '185',\n",
    "    'step': '03100,18700',\n",
    "    'reason': '漏油了',\n",
    "    'users': '张三',\n",
    "    'charge_users': '里斯',\n",
    "    'desc': '漏油了',\n",
    "    'condition': \"请我吃饭\",\n",
    "    # 上面是必填字段\n",
    "    'defect_type': True,\n",
    "    'zzz': \"多加的\",\n",
    "    'lot_num': '20',\n",
    "    'lots': 'PAD1K123456',\n",
    "    'remark': 'wolegeca',\n",
    "}\n",
    "\n",
    "files = (\n",
    "    ('reports', open('panda.jpg', 'rb')),\n",
    "    # ('reports', open('panda.jpg', 'rb')),\n",
    ")\n",
    "\n",
    "res = requests.post(create_url, data=data, files=files, headers=headers)\n",
    "\n",
    "print(res.status_code)\n",
    "print(res.json())"
   ]
  },
  {
   "cell_type": "code",
   "execution_count": 76,
   "metadata": {},
   "outputs": [
    {
     "name": "stdout",
     "output_type": "stream",
     "text": [
      "200\n",
      "{'id': 'TEA-A6I-20'}\n"
     ]
    }
   ],
   "source": [
    "# 修改开单\n",
    "\n",
    "import json\n",
    "import requests\n",
    "\n",
    "auth_url = \"http://127.0.0.1:8000/jwt/auth/\"\n",
    "put_url = \"http://127.0.0.1:8000/tft/order/start/TEA-A6I-20/\"\n",
    "\n",
    "user_data = {\n",
    "    \"username\": \"00001\",\n",
    "    \"password\": \"admin123\"\n",
    "}\n",
    "\n",
    "res = requests.post(auth_url, data=user_data)\n",
    "token = res.json().get('token')\n",
    "\n",
    "headers = {\n",
    "    'Authorization': f\"JWT {token}\"\n",
    "}\n",
    "\n",
    "data = {   \n",
    "    'found_time': '2018-07-12T14:21:27.347759+08:00',\n",
    "    'found_step': '12300',\n",
    "    'charge_group': 10,\n",
    "    'eq': 'cak-02k',\n",
    "    'kind': '185',\n",
    "    'step': '03100,18700',\n",
    "    'reason': '漏油了',\n",
    "    'users': '张三',\n",
    "    'charge_users': '里斯',\n",
    "    'desc': '漏油了',\n",
    "    'condition': \"请我吃饭\",\n",
    "    # 上面是必填字段\n",
    "    'defect_type': False,\n",
    "    'zzz': \"多加的\",\n",
    "    'lot_num': '20',\n",
    "    'lots': 'PAD1K123456',\n",
    "    'remark': 'wolegeca',\n",
    "}\n",
    "\n",
    "res = requests.put(put_url, data=data, headers=headers)\n",
    "print(res.status_code)\n",
    "print(res.json())"
   ]
  },
  {
   "cell_type": "code",
   "execution_count": null,
   "metadata": {},
   "outputs": [],
   "source": []
  },
  {
   "cell_type": "code",
   "execution_count": 89,
   "metadata": {},
   "outputs": [
    {
     "name": "stdout",
     "output_type": "stream",
     "text": [
      "400\n",
      "{'order': ['此单当前的状态是（停机）待责任工程签核，不是生产签核']}\n"
     ]
    }
   ],
   "source": [
    "# 生产签核\n",
    "\n",
    "import requests\n",
    "\n",
    "auth_url = \"http://127.0.0.1:8000/jwt/auth/\"\n",
    "audit_url = \"http://127.0.0.1:8000/tft/order/audit/product/\"\n",
    "\n",
    "user_data = {\n",
    "    \"username\": \"00001\",\n",
    "    \"password\": \"admin123\"\n",
    "}\n",
    "\n",
    "res = requests.post(auth_url, data=user_data)\n",
    "token = res.json().get('token')\n",
    "\n",
    "headers = {\n",
    "    'Authorization': f\"JWT {token}\"\n",
    "}\n",
    "\n",
    "data = {\n",
    "    'order': 'TEA-A6I-19',\n",
    "    'recipe_close': '张三',\n",
    "    'recipe_confirm': '李四',\n",
    "    'remark': '11123'\n",
    "}\n",
    "\n",
    "res = requests.post(audit_url, data=data, headers=headers)\n",
    "print(res.status_code)\n",
    "print(res.json())"
   ]
  },
  {
   "cell_type": "code",
   "execution_count": 94,
   "metadata": {},
   "outputs": [
    {
     "name": "stdout",
     "output_type": "stream",
     "text": [
      "200\n",
      "{'id': 'TEA-A6I-19', 'status': '（停机）完成'}\n"
     ]
    }
   ],
   "source": [
    "# 责任工程签核\n",
    "\n",
    "import requests\n",
    "\n",
    "auth_url = \"http://127.0.0.1:8000/jwt/auth/\"\n",
    "audit_url = \"http://127.0.0.1:8000/tft/order/audit/charge/\"\n",
    "\n",
    "user_data = {\n",
    "    \"username\": \"00001\",\n",
    "    \"password\": \"admin123\"\n",
    "}\n",
    "\n",
    "res = requests.post(auth_url, data=user_data)\n",
    "token = res.json().get('token')\n",
    "\n",
    "headers = {\n",
    "    'Authorization': f\"JWT {token}\"\n",
    "}\n",
    "\n",
    "data = {\n",
    "    'order': 'TEA-A6I-19',\n",
    "    # 'rejected': True,\n",
    "    # 'reason': 'buhaok'\n",
    "}\n",
    "\n",
    "res = requests.post(audit_url, data=data, headers=headers)\n",
    "print(res.status_code)\n",
    "print(res.json())"
   ]
  },
  {
   "cell_type": "code",
   "execution_count": null,
   "metadata": {},
   "outputs": [],
   "source": []
  },
  {
   "cell_type": "code",
   "execution_count": 1,
   "metadata": {},
   "outputs": [
    {
     "name": "stdout",
     "output_type": "stream",
     "text": [
      "{'id': 9, 'order_id': 'TEA-A6I-19', 'status_code': '5', 'status': '（复机）待QC签核'}\n"
     ]
    }
   ],
   "source": [
    "# 复机申请\n",
    "import requests\n",
    "\n",
    "auth_url = \"http://127.0.0.1:8000/jwt/auth/\"\n",
    "recover_url = \"http://127.0.0.1:8000/tft/order/recover/\"\n",
    "\n",
    "user_data = {\n",
    "    \"username\": \"00001\",\n",
    "    \"password\": \"admin123\"\n",
    "}\n",
    "\n",
    "res = requests.post(auth_url, data=user_data)\n",
    "token = res.json().get('token')\n",
    "\n",
    "headers = {\n",
    "    'Authorization': f\"JWT {token}\"\n",
    "}\n",
    "\n",
    "data = {\n",
    "    'order': 'TEA-A6I-19',\n",
    "    'solution': '111',\n",
    "    'explain': '2222',\n",
    "    'partial': True,\n",
    "    'eq': 'qq',\n",
    "    'kind': '22',\n",
    "    'step': '11'\n",
    "}\n",
    "\n",
    "res = requests.post(recover_url, data=data, headers=headers)\n",
    "print(res.json())"
   ]
  },
  {
   "cell_type": "code",
   "execution_count": null,
   "metadata": {},
   "outputs": [],
   "source": [
    "b"
   ]
  },
  {
   "cell_type": "code",
   "execution_count": 10,
   "metadata": {},
   "outputs": [
    {
     "name": "stdout",
     "output_type": "stream",
     "text": [
      "200\n",
      "{'id': 9, 'order_id': 'TEA-A6I-19', 'status_code': '5', 'status': '（复机）待QC签核'}\n"
     ]
    }
   ],
   "source": [
    "# 复机修改\n",
    "import requests\n",
    "\n",
    "auth_url = \"http://127.0.0.1:8000/jwt/auth/\"\n",
    "recover_url = \"http://127.0.0.1:8000/tft/order/recover/9/\"\n",
    "\n",
    "user_data = {\n",
    "    \"username\": \"00002\",\n",
    "    \"password\": \"admin123\"\n",
    "}\n",
    "\n",
    "res = requests.post(auth_url, data=user_data)\n",
    "token = res.json().get('token')\n",
    "\n",
    "headers = {\n",
    "    'Authorization': f\"JWT {token}\"\n",
    "}\n",
    "\n",
    "data = {\n",
    "    'solution': '111',\n",
    "    'explain': '2222',\n",
    "    'partial': True,\n",
    "    'eq': 'qq',\n",
    "    'kind': '22',\n",
    "    'step': '11'\n",
    "}\n",
    "\n",
    "res = requests.put(recover_url, data=data, headers=headers)\n",
    "print(res.status_code)\n",
    "print(res.json())"
   ]
  },
  {
   "cell_type": "code",
   "execution_count": null,
   "metadata": {},
   "outputs": [],
   "source": []
  },
  {
   "cell_type": "code",
   "execution_count": 15,
   "metadata": {
    "scrolled": true
   },
   "outputs": [
    {
     "name": "stdout",
     "output_type": "stream",
     "text": [
      "{'id': 9, 'order_id': 'TEA-A6I-19', 'status': '（复机）待生产签核'}\n"
     ]
    }
   ],
   "source": [
    "# 复机 QC 审核\n",
    "\n",
    "import requests\n",
    "\n",
    "auth_url = \"http://127.0.0.1:8000/jwt/auth/\"\n",
    "audit_url = \"http://127.0.0.1:8000/tft/order/recover-audit/qc/\"\n",
    "\n",
    "user_data = {\n",
    "    \"username\": \"00003\",\n",
    "    \"password\": \"admin123\"\n",
    "}\n",
    "\n",
    "res = requests.post(auth_url, data=user_data)\n",
    "token = res.json().get('token')\n",
    "\n",
    "headers = {\n",
    "    'Authorization': f\"JWT {token}\"\n",
    "}\n",
    "\n",
    "data = {\n",
    "    'id': 9,\n",
    "}\n",
    "\n",
    "res = requests.post(audit_url, data=data, headers=headers)\n",
    "print(res.json())"
   ]
  },
  {
   "cell_type": "code",
   "execution_count": 18,
   "metadata": {},
   "outputs": [
    {
     "name": "stdout",
     "output_type": "stream",
     "text": [
      "{'id': 9, 'order_id': 'TEA-A6I-19', 'status': '（部分复机）完成'}\n"
     ]
    }
   ],
   "source": [
    "# 复机 生产 审核\n",
    "\n",
    "import requests\n",
    "\n",
    "auth_url = \"http://127.0.0.1:8000/jwt/auth/\"\n",
    "audit_url = \"http://127.0.0.1:8000/tft/order/recover-audit/product/\"\n",
    "\n",
    "user_data = {\n",
    "    \"username\": \"00003\",\n",
    "    \"password\": \"admin123\"\n",
    "}\n",
    "\n",
    "res = requests.post(auth_url, data=user_data)\n",
    "token = res.json().get('token')\n",
    "\n",
    "headers = {\n",
    "    'Authorization': f\"JWT {token}\"\n",
    "}\n",
    "\n",
    "data = {\n",
    "    'id': 9,\n",
    "}\n",
    "\n",
    "res = requests.post(audit_url, data=data, headers=headers)\n",
    "print(res.json())"
   ]
  },
  {
   "cell_type": "code",
   "execution_count": null,
   "metadata": {},
   "outputs": [],
   "source": []
  }
 ],
 "metadata": {
  "kernelspec": {
   "display_name": "Python 3",
   "language": "python",
   "name": "python3"
  },
  "language_info": {
   "codemirror_mode": {
    "name": "ipython",
    "version": 3
   },
   "file_extension": ".py",
   "mimetype": "text/x-python",
   "name": "python",
   "nbconvert_exporter": "python",
   "pygments_lexer": "ipython3",
   "version": "3.7.0"
  },
  "toc": {
   "nav_menu": {},
   "number_sections": true,
   "sideBar": true,
   "skip_h1_title": false,
   "title_cell": "Table of Contents",
   "title_sidebar": "Contents",
   "toc_cell": false,
   "toc_position": {},
   "toc_section_display": true,
   "toc_window_display": false
  }
 },
 "nbformat": 4,
 "nbformat_minor": 2
}
