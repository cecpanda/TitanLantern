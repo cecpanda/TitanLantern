{
 "cells": [
  {
   "cell_type": "code",
   "execution_count": 56,
   "metadata": {},
   "outputs": [
    {
     "name": "stdout",
     "output_type": "stream",
     "text": [
      "{'eq': ['KOI-01K 与其他设备不属同一科室']}\n"
     ]
    }
   ],
   "source": [
    "import json\n",
    "import requests\n",
    "\n",
    "auth_url = \"http://127.0.0.1:8000/jwt/auth/\"\n",
    "create_url = \"http://127.0.0.1:8000/tft/order/start/\"\n",
    "\n",
    "user_data = {\n",
    "    \"username\": \"03152\",\n",
    "    \"password\": \"admin123\"\n",
    "}\n",
    "\n",
    "res = requests.post(auth_url, data=user_data)\n",
    "token = res.json().get('token')\n",
    "\n",
    "\n",
    "\n",
    "\n",
    "headers = {\n",
    "    'Authorization': f\"JWT {token}\"\n",
    "}\n",
    "\n",
    "data = {\n",
    "    'eq': ['cak-01k', 'cak-02k', 'cak-01k', 'koi-01k'],\n",
    "    'kind': '185',\n",
    "    'step': '03100,18700',\n",
    "    'reason': '漏油了',\n",
    "    'found_time': '2018-07-12T14:21:27.347759+08:00',\n",
    "    'found_step': '12300',\n",
    "    'users': ['1', '2'],\n",
    "    'charge_users': ['3', '4'],\n",
    "    'desc': '漏油了',\n",
    "    'condition': \"请我吃饭\",\n",
    "    'zzz': \"多加的\"\n",
    "    \n",
    "    # 上面是必填字段\n",
    "    \n",
    "}\n",
    "\n",
    "res = requests.post(create_url, data=data, headers=headers)\n",
    "print(res.json())"
   ]
  },
  {
   "cell_type": "code",
   "execution_count": null,
   "metadata": {},
   "outputs": [],
   "source": []
  }
 ],
 "metadata": {
  "kernelspec": {
   "display_name": "Python 3",
   "language": "python",
   "name": "python3"
  },
  "language_info": {
   "codemirror_mode": {
    "name": "ipython",
    "version": 3
   },
   "file_extension": ".py",
   "mimetype": "text/x-python",
   "name": "python",
   "nbconvert_exporter": "python",
   "pygments_lexer": "ipython3",
   "version": "3.7.0"
  }
 },
 "nbformat": 4,
 "nbformat_minor": 2
}
